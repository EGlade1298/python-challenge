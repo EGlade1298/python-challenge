{
 "cells": [
  {
   "cell_type": "code",
   "execution_count": 101,
   "id": "78858add-0812-4b01-9c1c-79507c16485a",
   "metadata": {},
   "outputs": [
    {
     "name": "stdout",
     "output_type": "stream",
     "text": [
      "Financial Analysis\n",
      "---------------------------------------------\n",
      "Total Months: 86\n",
      "Total Revenue: $38382578\n",
      "Average Revenue Change: []\n",
      "Greatest Increase in Profits: Feb-2012 $1170593\n",
      "Greatest Decrease in Profits: Sep-2013 $-1196225\n"
     ]
    }
   ],
   "source": [
    "# import csv file\n",
    "import csv\n",
    "list_dates = []\n",
    "list_pl = []\n",
    "\n",
    "# open and read csv\n",
    "with open(\"C:/Users/Eric/Desktop/python-challenge/PyBank/budget_data.csv\", 'r') as csv_file:\n",
    "\n",
    "    csv_reader = csv.reader(csv_file, delimiter=',')\n",
    "\n",
    "    next(csv_reader)\n",
    "\n",
    "    for column in csv_reader:\n",
    "\n",
    "        Dates, Profitlosses = column\n",
    "\n",
    "        list_pl.append(int(Profitlosses))\n",
    "\n",
    "        list_dates.append(str(Dates))\n",
    "\n",
    "# total number of months\n",
    "\n",
    "total_months = (len(list_dates))\n",
    "\n",
    "# net amount of Profit/Losses \n",
    "\n",
    "net_pl = sum(list_pl)\n",
    "\n",
    "# average change  \n",
    "\n",
    "net_change = []\n",
    "  \n",
    "\n",
    "# greatest increase in profits\n",
    "\n",
    "highest_value = max(list_pl)\n",
    "\n",
    "lowest_value = min(list_pl)\n",
    "\n",
    "list_minmax = list(zip(list_pl, list_dates))\n",
    "\n",
    "max_change = max(list_pl)\n",
    "\n",
    "max_date = max(list_dates)\n",
    "\n",
    "# greatest decrease in losses\n",
    "\n",
    "min_change = min(list_pl)\n",
    "\n",
    "min_date = min(list_dates)\n",
    "\n",
    "# print results\n",
    "print(\"Financial Analysis\")\n",
    "print (\"---------------------------------------------\")\n",
    "print(f\"Total Months: {total_months}\")\n",
    "print(f\"Total Revenue: ${net_pl}\")\n",
    "print(f\"Average Revenue Change: {net_change}\") \n",
    "print(f\"Greatest Increase in Profits: {max(list_minmax)[1]} ${max(list_minmax)[0]}\")\n",
    "print(f\"Greatest Decrease in Profits: {min(list_minmax)[1]} ${min(list_minmax)[0]}\") "
   ]
  },
  {
   "cell_type": "code",
   "execution_count": null,
   "id": "b9055627-a857-4b6d-9c19-85bcbbe79145",
   "metadata": {},
   "outputs": [],
   "source": []
  },
  {
   "cell_type": "code",
   "execution_count": null,
   "id": "628d018c-600d-4210-a334-6725839ce688",
   "metadata": {},
   "outputs": [],
   "source": []
  },
  {
   "cell_type": "code",
   "execution_count": null,
   "id": "43e7d6c7-fb3f-4b3f-b93c-9ca13ca86615",
   "metadata": {},
   "outputs": [],
   "source": []
  }
 ],
 "metadata": {
  "kernelspec": {
   "display_name": "Python 3 (ipykernel)",
   "language": "python",
   "name": "python3"
  },
  "language_info": {
   "codemirror_mode": {
    "name": "ipython",
    "version": 3
   },
   "file_extension": ".py",
   "mimetype": "text/x-python",
   "name": "python",
   "nbconvert_exporter": "python",
   "pygments_lexer": "ipython3",
   "version": "3.9.7"
  }
 },
 "nbformat": 4,
 "nbformat_minor": 5
}
